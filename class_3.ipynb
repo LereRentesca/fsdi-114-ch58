{
 "cells": [
  {
   "cell_type": "markdown",
   "id": "f94fc558",
   "metadata": {},
   "source": [
    "# Class 3 -  Stacks and Queues\n",
    "\n",
    "## Stack\n",
    "A stack is an ordered collection of elements where items are added and removed from one end, commonly referred to as the \"top\". \n",
    "The ordering principle is referred to as LIFO (Last In, First Out)\n",
    "\n",
    "\n",
    "## Queue\n",
    "A queue is on ordered collection of elements where items are added and removed from **opposite** ends, commonly referred to as the \"front\" and \"back\" or \"rear\" of the queue. The ordering principal is referred to as FIFO (First In, First out) or \"frist come first served\"."
   ]
  },
  {
   "cell_type": "code",
   "execution_count": 18,
   "id": "137fed28",
   "metadata": {},
   "outputs": [],
   "source": [
    "# Simplified version of a Stack (relying on built-in functions)\n",
    "\n",
    "class Stack:\n",
    "    def __init__(self):\n",
    "        self.items = []\n",
    "\n",
    "    def push(self,elements):\n",
    "        self.items.append(elements)\n",
    "\n",
    "    def pop(self):\n",
    "        return self.items.pop()\n",
    "\n",
    "    def peek(self):\n",
    "        return self.items[len(self.items)-1]\n",
    "\n",
    "    def size(self):\n",
    "        return len(self.items)\n",
    "\n",
    "    def is_empty(self):\n",
    "        return self.items == []"
   ]
  },
  {
   "cell_type": "code",
   "execution_count": 10,
   "id": "d087d1a7",
   "metadata": {},
   "outputs": [
    {
     "name": "stdout",
     "output_type": "stream",
     "text": [
      "[10, 20, 23, 19, 40]\n",
      "40\n",
      "19\n",
      "23\n",
      "False\n",
      "2\n",
      "20\n"
     ]
    }
   ],
   "source": [
    "stack = Stack()\n",
    "stack.push(10)\n",
    "stack.push(20)\n",
    "stack.push(23)\n",
    "stack.push(19)\n",
    "stack.push(40)\n",
    "\n",
    "print(stack.items)\n",
    "\n",
    "print(stack.pop()) #40\n",
    "print(stack.pop()) #19\n",
    "print(stack.pop()) #23\n",
    "\n",
    "print(stack.is_empty())\n",
    "\n",
    "print(stack.size())\n",
    "\n",
    "print(stack.peek())"
   ]
  },
  {
   "cell_type": "markdown",
   "id": "3af36076",
   "metadata": {},
   "source": [
    "# Problem 3\n",
    "### Use the stack class above to invert a string\n",
    "\n",
    "```\n",
    "Example:\n",
    "given \"Luis\" your function should return siuL\n",
    "given \"stars\" your function should return \"srats\"\n",
    "given \"cool\" your function should return \"looc\"\n",
    "```\n",
    "\n",
    "Criteria:\n",
    "Your function must receive a string as a parameter and return a string (not a list)\n",
    "\n",
    "Your function must use the Stack class above\n",
    "\n",
    "You cannot google anything for this challenge"
   ]
  },
  {
   "cell_type": "code",
   "execution_count": 20,
   "id": "a68ba530",
   "metadata": {},
   "outputs": [
    {
     "data": {
      "text/plain": [
       "'sixelA'"
      ]
     },
     "execution_count": 20,
     "metadata": {},
     "output_type": "execute_result"
    }
   ],
   "source": [
    "\n",
    "def invert_word(word): #word = Data Structures\n",
    "    stack = Stack()\n",
    "    out = \"\"\n",
    "    for letter in word: # D a t a S t r u c t u r e s\n",
    "        stack.push(letter) # ['D','a']\n",
    "\n",
    "    while not stack.is_empty(): #False -> True\n",
    "        out += stack.pop() # serutu\n",
    "\n",
    "    return out\n",
    "\n",
    "invert_word(\"Alexis\") "
   ]
  }
 ],
 "metadata": {
  "kernelspec": {
   "display_name": "Python 3 (ipykernel)",
   "language": "python",
   "name": "python3"
  },
  "language_info": {
   "codemirror_mode": {
    "name": "ipython",
    "version": 3
   },
   "file_extension": ".py",
   "mimetype": "text/x-python",
   "name": "python",
   "nbconvert_exporter": "python",
   "pygments_lexer": "ipython3",
   "version": "3.10.12"
  }
 },
 "nbformat": 4,
 "nbformat_minor": 5
}
