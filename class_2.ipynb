{
 "cells": [
  {
   "cell_type": "markdown",
   "id": "ec86f58f",
   "metadata": {},
   "source": [
    "# Class 2 - Big O Notation\n",
    "\n",
    "## Problem 2\n",
    "\n",
    "### Anagram check\n",
    "\n",
    "Create a function that takes two strings as parameters and returns True if they are anagrams of each other, False otherwise.\n",
    "```\n",
    "Examples:\n",
    "1. heart and earth\n",
    "2. scar and cars\n",
    "3. star and rats\n",
    "etc\n",
    "```\n",
    "### Criteria\n",
    "Two strings are anagrams of each other if and only if all the criteria below are met:\n",
    "> 1. They must use all the same characters\n",
    "> 2. They must be exactly the same lenght (in characters)\n"
   ]
  },
  {
   "cell_type": "code",
   "execution_count": 10,
   "id": "67029c6d",
   "metadata": {},
   "outputs": [
    {
     "data": {
      "text/plain": [
       "True"
      ]
     },
     "execution_count": 10,
     "metadata": {},
     "output_type": "execute_result"
    }
   ],
   "source": [
    "# Pseudocode -> \n",
    "\n",
    "def check_anagrams(w1,w2):\n",
    "    w1 = w1.lower().replace(\" \",\"\") #O(1)\n",
    "    w2 = w2.lower().replace(\" \",\"\") #O(1)\n",
    "    word = {} #O(1)\n",
    "    word2 = {}  # O(1)\n",
    "    if len(w1) == len(w2): # O(log n)\n",
    "        for letter in w1: # O(n)\n",
    "            if word.get(letter): # O(log n)\n",
    "                word[letter]+=1 # O(1)\n",
    "            else:\n",
    "                word[letter] = 1\n",
    "            \n",
    "        for letter in w2: # O(n)\n",
    "            if word2.get(letter):\n",
    "                word2[letter]+=1\n",
    "            else:\n",
    "                word2[letter] = 1\n",
    "\n",
    "        return word == word2\n",
    "    else:\n",
    "        return False\n",
    "    \n",
    "\n",
    "check_anagrams(\"Tom Marvolo Riddle\",\"I am Lord Voldemort\") #O(1)"
   ]
  },
  {
   "cell_type": "code",
   "execution_count": null,
   "id": "baaae8de",
   "metadata": {},
   "outputs": [
    {
     "data": {
      "text/plain": [
       "True"
      ]
     },
     "execution_count": 9,
     "metadata": {},
     "output_type": "execute_result"
    }
   ],
   "source": [
    "def validate_anagrams(str1, str2):\n",
    "    # str1=str1.replace(\" \",\"\").lower()\n",
    "    # str2=str2.replace(\" \",\"\").lower()\n",
    "    i=0 # O(1)\n",
    "    j=0 # O(1)\n",
    "    if len(str1) == len(str2): # O(1)\n",
    "        for a in str1:\n",
    "            for b in str2: # O(n^2) \n",
    "                if a==b: # O(1)\n",
    "                    i=i+1 # O(1)\n",
    "                    break # O(1)\n",
    "        for a in str2:\n",
    "            for b in str1: # O(n^2)\n",
    "                if a==b:\n",
    "                    j=j+1\n",
    "                    break\n",
    "        if i==len(str1) and i==j:\n",
    "            return True\n",
    "        else:\n",
    "            return False\n",
    "    else:\n",
    "        return False\n",
    "\n",
    "validate_anagrams(\"earth\",\"heart\")"
   ]
  }
 ],
 "metadata": {
  "kernelspec": {
   "display_name": "Python 3 (ipykernel)",
   "language": "python",
   "name": "python3"
  },
  "language_info": {
   "codemirror_mode": {
    "name": "ipython",
    "version": 3
   },
   "file_extension": ".py",
   "mimetype": "text/x-python",
   "name": "python",
   "nbconvert_exporter": "python",
   "pygments_lexer": "ipython3",
   "version": "3.10.12"
  }
 },
 "nbformat": 4,
 "nbformat_minor": 5
}
